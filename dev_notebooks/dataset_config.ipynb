{
 "cells": [
  {
   "cell_type": "code",
   "execution_count": 3,
   "metadata": {},
   "outputs": [],
   "source": [
    "import duckdb\n",
    "from kaggle import KaggleApi"
   ]
  },
  {
   "cell_type": "code",
   "execution_count": 2,
   "metadata": {},
   "outputs": [
    {
     "data": {
      "text/plain": [
       "True"
      ]
     },
     "execution_count": 2,
     "metadata": {},
     "output_type": "execute_result"
    }
   ],
   "source": [
    "# Using Kaggle Python API to source dataset from Kaggle\n",
    "kaggle = KaggleApi()\n",
    "kaggle.authenticate()\n",
    "kaggle.dataset_download_file(dataset='dubradave/formula-1-drivers-dataset',\n",
    "                             file_name='F1DriversDataset.csv',\n",
    "                             path='/repos/FormulaOne-DataViz/data')"
   ]
  },
  {
   "cell_type": "code",
   "execution_count": 13,
   "metadata": {},
   "outputs": [],
   "source": [
    "# Using DuckDB to ingest data from csv into a Relation\n",
    "duckdb.read_csv('../data/F1DriversDataset.csv')\n",
    "\n",
    "# Connecting to (Creating is not exists) DuckDB persistent dataset\n",
    "con = duckdb.connect('../data/FormulaOne.db')\n",
    "\n",
    "# Saving dataset back out to a DuckDB table 'FormulaOne_Drivers'\n",
    "con.sql(f'''CREATE TABLE FormulaOne_Drivers AS\n",
    "           SELECT * FROM \"../data/F1DriversDataset.csv\"\n",
    "         ''')"
   ]
  },
  {
   "cell_type": "code",
   "execution_count": null,
   "metadata": {},
   "outputs": [],
   "source": []
  }
 ],
 "metadata": {
  "kernelspec": {
   "display_name": "dviz",
   "language": "python",
   "name": "python3"
  },
  "language_info": {
   "codemirror_mode": {
    "name": "ipython",
    "version": 3
   },
   "file_extension": ".py",
   "mimetype": "text/x-python",
   "name": "python",
   "nbconvert_exporter": "python",
   "pygments_lexer": "ipython3",
   "version": "3.11.2"
  },
  "orig_nbformat": 4
 },
 "nbformat": 4,
 "nbformat_minor": 2
}
